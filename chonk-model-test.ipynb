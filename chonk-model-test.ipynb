{
 "cells": [
  {
   "cell_type": "code",
   "execution_count": 35,
   "id": "2632a5a5-c72b-4e04-8fcd-d6cd2beff8ff",
   "metadata": {},
   "outputs": [
    {
     "name": "stdout",
     "output_type": "stream",
     "text": [
      "1/1 [==============================] - 0s 58ms/step\n",
      "A fine boi\n"
     ]
    }
   ],
   "source": [
    "import numpy as np\n",
    "import tensorflow as tf\n",
    "from tensorflow import keras\n",
    "import pandas as pd\n",
    "\n",
    "model = tf.keras.models.load_model(\"chonk-chart-model.h5\")\n",
    "\n",
    "data = {\n",
    "    \"Weight (kg)\": [3],\n",
    "    \"Breed_Abyssinian\": [False], \n",
    "    \"Breed_American Shorthair\": [False],\n",
    "    \"Breed_Balinese\": [False], \n",
    "    \"Breed_Bengal\": [False], \n",
    "    \"Breed_Birman\": [False], \n",
    "    \"Breed_British Shorthair\": [False], \n",
    "    \"Breed_Burmese\": [False], \n",
    "    \"Breed_Chartreux\": [False], \n",
    "    \"Breed_Cornish Rex\": [False], \n",
    "    \"Breed_Devon Rex\": [False], \n",
    "    \"Breed_Egyptian Mau\": [False], \n",
    "    \"Breed_Exotic Shorthair\": [False], \n",
    "    \"Breed_Himalayan\": [False], \n",
    "    \"Breed_Maine Coon\": [False], \n",
    "    \"Breed_Manx\": [False], \n",
    "    \"Breed_Munchkin\": [True], \n",
    "    \"Breed_Norwegian Forest\": [False], \n",
    "    \"Breed_Ocicat\": [False], \n",
    "    \"Breed_Oriental\": [False], \n",
    "    \"Breed_Persian\": [False], \n",
    "    \"Breed_Ragdoll\": [False], \n",
    "    \"Breed_Russian Blue\": [False], \n",
    "    \"Breed_Savannah\": [False], \n",
    "    \"Breed_Scottish Fold\": [False], \n",
    "    \"Breed_Siamese\": [False], \n",
    "    \"Breed_Siberian\": [False], \n",
    "    \"Breed_Singapura\": [False], \n",
    "    \"Breed_Sphynx\": [False], \n",
    "    \"Breed_Tonkinese\": [False], \n",
    "    \"Breed_Turkish Angora\": [False], \n",
    "    \"Gender_Female\": [True], \n",
    "    \"Gender_Male\": [False]\n",
    "}\n",
    "\n",
    "df = pd.DataFrame(data)\n",
    "\n",
    "predict_data = pd.get_dummies(df)\n",
    "\n",
    "predict_data = predict_data.astype(np.float32).to_numpy()\n",
    "\n",
    "prediction = model.predict(predict_data)\n",
    "\n",
    "max_index = np.argmax(prediction)\n",
    "\n",
    "if max_index == 0:\n",
    "    print(\"A fine boi\")\n",
    "elif max_index == 1:\n",
    "    print(\"A heckin chonker\")\n",
    "elif max_index == 2:\n",
    "    print(\"HEFTYCHONK\")\n",
    "elif max_index == 3:\n",
    "    print(\"He chomnk\")\n",
    "elif max_index == 4:\n",
    "    print(\"MEGACHONKER\")\n",
    "elif max_index == 5:\n",
    "    print(\"OH LAWD HE COMIN\")\n",
    "else:\n",
    "    print(\"Too smol\")"
   ]
  },
  {
   "cell_type": "code",
   "execution_count": null,
   "id": "f8a8f696-2b2b-43d7-8cb4-20744a25a6d8",
   "metadata": {},
   "outputs": [],
   "source": []
  }
 ],
 "metadata": {
  "kernelspec": {
   "display_name": "Python 3 (ipykernel)",
   "language": "python",
   "name": "python3"
  },
  "language_info": {
   "codemirror_mode": {
    "name": "ipython",
    "version": 3
   },
   "file_extension": ".py",
   "mimetype": "text/x-python",
   "name": "python",
   "nbconvert_exporter": "python",
   "pygments_lexer": "ipython3",
   "version": "3.10.0"
  }
 },
 "nbformat": 4,
 "nbformat_minor": 5
}
